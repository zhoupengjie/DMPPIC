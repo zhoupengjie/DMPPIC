{
 "cells": [
  {
   "cell_type": "code",
   "execution_count": null,
   "metadata": {},
   "outputs": [
    {
     "name": "stderr",
     "output_type": "stream",
     "text": [
      "<>:51: SyntaxWarning: invalid escape sequence '\\*'\n",
      "<>:51: SyntaxWarning: invalid escape sequence '\\*'\n",
      "/tmp/ipykernel_3850/1100917524.py:51: SyntaxWarning: invalid escape sequence '\\*'\n",
      "  f.write(\"\\*---------------------------------------------------------------------------*/\\n\")\n"
     ]
    },
    {
     "name": "stdout",
     "output_type": "stream",
     "text": [
      "File './constant/kinematicCloudPositions' generated successfully with 100000 injection points.\n"
     ]
    }
   ],
   "source": [
    "# Import necessary libraries\n",
    "import numpy as np\n",
    "\n",
    "# Number of molecules to generate\n",
    "num_molecules = 10000\n",
    "\n",
    "mesh_scale = 0.001\n",
    "\n",
    "# Given three points defining the inlet surface\n",
    "P1_new = np.array([0.85174, -0.33622, -0.24129]) * mesh_scale\n",
    "P2_new = np.array([0.82309, -0.30603, -0.21375]) * mesh_scale\n",
    "P3_new = np.array([0.81828, -0.30821, -0.26517]) * mesh_scale\n",
    "\n",
    "# Compute two vectors on the surface\n",
    "v1_new = P2_new - P1_new\n",
    "v2_new = P3_new - P1_new\n",
    "\n",
    "# Compute the normal vector using the cross product\n",
    "normal_vector_new = np.cross(v1_new, v2_new)\n",
    "\n",
    "# Normalize the normal vector to get a unit normal\n",
    "unit_normal_vector_new = normal_vector_new / np.linalg.norm(normal_vector_new)\n",
    "\n",
    "# Offset distance to place particles slightly above the surface\n",
    "offset_distance = 1e-6  # Adjust as needed\n",
    "\n",
    "# Generate random barycentric coordinates to randomly distribute points on the triangular surface\n",
    "rand_a = np.random.uniform(0, 0.1, num_molecules)\n",
    "rand_b = np.random.uniform(0, 0.1, num_molecules)\n",
    "\n",
    "# Ensure the generated points stay within the triangle\n",
    "mask = rand_a + rand_b > 1\n",
    "rand_a[mask] = 1 - rand_a[mask]\n",
    "rand_b[mask] = 1 - rand_b[mask]\n",
    "\n",
    "# Compute random points within the triangular surface\n",
    "random_points = P1_new + rand_a[:, None] * v1_new + rand_b[:, None] * v2_new\n",
    "\n",
    "# Compute new injection points slightly above the surface along the normal\n",
    "injection_points = random_points + offset_distance * unit_normal_vector_new\n",
    "\n",
    "# Generate OpenFOAM formatted position file\n",
    "filename = \"./constant/kinematicCloudPositions\"\n",
    "with open(filename, \"w\") as f:\n",
    "    f.write(\"/*--------------------------------*- C++ -*----------------------------------*\\\\\\n\")\n",
    "    f.write(\"| =========                 |                                                 |\\n\")\n",
    "    f.write(\"| \\\\      /  F ield         | OpenFOAM: The Open Source CFD Toolbox           |\\n\")\n",
    "    f.write(\"|  \\\\    /   O peration     | Version:  v2312                                 |\\n\")\n",
    "    f.write(\"|   \\\\  /    A nd           | Website:  www.openfoam.com                      |\\n\")\n",
    "    f.write(\"|    \\\\/     M anipulation  |                                                 |\\n\")\n",
    "    f.write(\"\\*---------------------------------------------------------------------------*/\\n\")\n",
    "    f.write(\"FoamFile\\n\")\n",
    "    f.write(\"{\\n\")\n",
    "    f.write(\"    version     2.0;\\n\")\n",
    "    f.write(\"    format      ascii;\\n\")\n",
    "    f.write(\"    class       vectorField;\\n\")\n",
    "    f.write(\"    object      kinematicCloudPositions;\\n\")\n",
    "    f.write(\"}\\n\")\n",
    "    f.write(\"// * * * * * * * * * * * * * * * * * * * * * * * * * * * * * * * * * * * * * //\\n\")\n",
    "    f.write(\"\\n(\\n\")\n",
    "\n",
    "    for point in injection_points:\n",
    "        f.write(f\"    ({point[0]:.6f} {point[1]:.6f} {point[2]:.6f})\\n\")\n",
    "\n",
    "    f.write(\")\\n\")\n",
    "\n",
    "print(f\"File '{filename}' generated successfully with {num_molecules} injection points.\")\n"
   ]
  }
 ],
 "metadata": {
  "kernelspec": {
   "display_name": "py312",
   "language": "python",
   "name": "python3"
  },
  "language_info": {
   "codemirror_mode": {
    "name": "ipython",
    "version": 3
   },
   "file_extension": ".py",
   "mimetype": "text/x-python",
   "name": "python",
   "nbconvert_exporter": "python",
   "pygments_lexer": "ipython3",
   "version": "3.12.7"
  }
 },
 "nbformat": 4,
 "nbformat_minor": 2
}
